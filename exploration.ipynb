{
 "cells": [
  {
   "cell_type": "markdown",
   "metadata": {},
   "source": [
    "# Import modules"
   ]
  },
  {
   "cell_type": "code",
   "execution_count": 1,
   "metadata": {},
   "outputs": [],
   "source": [
    "import pandas as pd"
   ]
  },
  {
   "cell_type": "markdown",
   "metadata": {},
   "source": [
    "# Before you begin...\n",
    "\n",
    "Make a `dataset` directory at the root of this project and place your json files in there."
   ]
  },
  {
   "cell_type": "markdown",
   "metadata": {},
   "source": [
    "# Convert datasets to CSV"
   ]
  },
  {
   "cell_type": "markdown",
   "metadata": {},
   "source": [
    "I tried countless methods to read the data into a dataframe directly from `JSON` however I was not successful. the [yelp/dataset-examples](https://github.com/Yelp/dataset-examples/blob/master/json_to_csv_converter.py) has a `json_to_csv_converter` which can be used to convert the data to `csv`."
   ]
  },
  {
   "cell_type": "markdown",
   "metadata": {},
   "source": [
    "## Log of attempt to load JSON data"
   ]
  },
  {
   "cell_type": "markdown",
   "metadata": {},
   "source": [
    "```\n",
    "** <2018-02-04 Sun>\n",
    "- Note taken on [2018-02-04 Sun 18:16] \\\\\n",
    "  [[https://www.dataquest.io/blog/python-json-tutorial/][blogpost]] on some techniques to deal with large datasets\n",
    "- Note taken on [2018-02-04 Sun 18:16] \\\\\n",
    "  trying to load the =review.json= file but experiencing weird problems.\n",
    "  Found a [[https://github.com/pandas-dev/pandas/issues/18152][issue]] on the pandas repository which documents the same error\n",
    "  that I am seeing. The conclusion seems to be that the json file was\n",
    "  malformed. I need to verify if my dataset has any issues.\n",
    "** <2018-02-05 Mon>\n",
    "- Note taken on [2018-02-06 Tue 12:18] \\\\\n",
    "  the converter works when executed with python2!\n",
    "- Note taken on [2018-02-05 Mon 22:43] \\\\\n",
    "  found a =json= to =csv= converter at the [[https://github.com/Yelp/dataset-examples/blob/master/json_to_csv_converter.py][yelp/dataset-examples]] repo. The\n",
    "  code is for python 2 so need to make a few adjustments before it works.\n",
    "```"
   ]
  },
  {
   "cell_type": "markdown",
   "metadata": {},
   "source": [
    "**Note:** the following cell will take time to execute, might want to go grab some ☕️. Alternatively, I would recommend manually converting only the files you need in the shell."
   ]
  },
  {
   "cell_type": "code",
   "execution_count": 6,
   "metadata": {},
   "outputs": [],
   "source": [
    "%%bash\n",
    "for file in dataset/*.json;\n",
    "do\n",
    "    echo \"converting $file to csv...\"\n",
    "    python2 lib/json_to_csv_converter.py $file;\n",
    "done\n",
    "# python2 lib/json_to_csv_converter.py"
   ]
  },
  {
   "cell_type": "markdown",
   "metadata": {},
   "source": [
    "# Exploration of reviews"
   ]
  },
  {
   "cell_type": "markdown",
   "metadata": {},
   "source": [
    "## Hypothesis\n",
    "\n",
    "H_o_: Reviews with higher `stars` should have a higher `useful` vote.\n",
    "\n",
    "H_a_: Reviews with higher `stars` do not have a higher `useful` vote."
   ]
  },
  {
   "cell_type": "code",
   "execution_count": 28,
   "metadata": {},
   "outputs": [],
   "source": [
    "reviews = pd.read_csv('dataset/review.csv')"
   ]
  },
  {
   "cell_type": "code",
   "execution_count": 29,
   "metadata": {},
   "outputs": [
    {
     "data": {
      "text/html": [
       "<div>\n",
       "<style scoped>\n",
       "    .dataframe tbody tr th:only-of-type {\n",
       "        vertical-align: middle;\n",
       "    }\n",
       "\n",
       "    .dataframe tbody tr th {\n",
       "        vertical-align: top;\n",
       "    }\n",
       "\n",
       "    .dataframe thead th {\n",
       "        text-align: right;\n",
       "    }\n",
       "</style>\n",
       "<table border=\"1\" class=\"dataframe\">\n",
       "  <thead>\n",
       "    <tr style=\"text-align: right;\">\n",
       "      <th></th>\n",
       "      <th>funny</th>\n",
       "      <th>user_id</th>\n",
       "      <th>review_id</th>\n",
       "      <th>text</th>\n",
       "      <th>business_id</th>\n",
       "      <th>stars</th>\n",
       "      <th>date</th>\n",
       "      <th>useful</th>\n",
       "      <th>cool</th>\n",
       "    </tr>\n",
       "  </thead>\n",
       "  <tbody>\n",
       "    <tr>\n",
       "      <th>0</th>\n",
       "      <td>0</td>\n",
       "      <td>bv2nCi5Qv5vroFiqKGopiw</td>\n",
       "      <td>v0i_UHJMo_hPBq9bxWvW4w</td>\n",
       "      <td>Love the staff, love the meat, love the place....</td>\n",
       "      <td>0W4lkclzZThpx3V65bVgig</td>\n",
       "      <td>5</td>\n",
       "      <td>2016-05-28</td>\n",
       "      <td>0</td>\n",
       "      <td>0</td>\n",
       "    </tr>\n",
       "    <tr>\n",
       "      <th>1</th>\n",
       "      <td>0</td>\n",
       "      <td>bv2nCi5Qv5vroFiqKGopiw</td>\n",
       "      <td>vkVSCC7xljjrAI4UGfnKEQ</td>\n",
       "      <td>Super simple place but amazing nonetheless. It...</td>\n",
       "      <td>AEx2SYEUJmTxVVB18LlCwA</td>\n",
       "      <td>5</td>\n",
       "      <td>2016-05-28</td>\n",
       "      <td>0</td>\n",
       "      <td>0</td>\n",
       "    </tr>\n",
       "    <tr>\n",
       "      <th>2</th>\n",
       "      <td>0</td>\n",
       "      <td>bv2nCi5Qv5vroFiqKGopiw</td>\n",
       "      <td>n6QzIUObkYshz4dz2QRJTw</td>\n",
       "      <td>Small unassuming place that changes their menu...</td>\n",
       "      <td>VR6GpWIda3SfvPC-lg9H3w</td>\n",
       "      <td>5</td>\n",
       "      <td>2016-05-28</td>\n",
       "      <td>0</td>\n",
       "      <td>0</td>\n",
       "    </tr>\n",
       "    <tr>\n",
       "      <th>3</th>\n",
       "      <td>0</td>\n",
       "      <td>bv2nCi5Qv5vroFiqKGopiw</td>\n",
       "      <td>MV3CcKScW05u5LVfF6ok0g</td>\n",
       "      <td>Lester's is located in a beautiful neighborhoo...</td>\n",
       "      <td>CKC0-MOWMqoeWf6s-szl8g</td>\n",
       "      <td>5</td>\n",
       "      <td>2016-05-28</td>\n",
       "      <td>0</td>\n",
       "      <td>0</td>\n",
       "    </tr>\n",
       "    <tr>\n",
       "      <th>4</th>\n",
       "      <td>0</td>\n",
       "      <td>bv2nCi5Qv5vroFiqKGopiw</td>\n",
       "      <td>IXvOzsEMYtiJI0CARmj77Q</td>\n",
       "      <td>Love coming here. Yes the place always needs t...</td>\n",
       "      <td>ACFtxLv8pGrrxMm6EgjreA</td>\n",
       "      <td>4</td>\n",
       "      <td>2016-05-28</td>\n",
       "      <td>0</td>\n",
       "      <td>0</td>\n",
       "    </tr>\n",
       "  </tbody>\n",
       "</table>\n",
       "</div>"
      ],
      "text/plain": [
       "   funny                 user_id               review_id  \\\n",
       "0      0  bv2nCi5Qv5vroFiqKGopiw  v0i_UHJMo_hPBq9bxWvW4w   \n",
       "1      0  bv2nCi5Qv5vroFiqKGopiw  vkVSCC7xljjrAI4UGfnKEQ   \n",
       "2      0  bv2nCi5Qv5vroFiqKGopiw  n6QzIUObkYshz4dz2QRJTw   \n",
       "3      0  bv2nCi5Qv5vroFiqKGopiw  MV3CcKScW05u5LVfF6ok0g   \n",
       "4      0  bv2nCi5Qv5vroFiqKGopiw  IXvOzsEMYtiJI0CARmj77Q   \n",
       "\n",
       "                                                text             business_id  \\\n",
       "0  Love the staff, love the meat, love the place....  0W4lkclzZThpx3V65bVgig   \n",
       "1  Super simple place but amazing nonetheless. It...  AEx2SYEUJmTxVVB18LlCwA   \n",
       "2  Small unassuming place that changes their menu...  VR6GpWIda3SfvPC-lg9H3w   \n",
       "3  Lester's is located in a beautiful neighborhoo...  CKC0-MOWMqoeWf6s-szl8g   \n",
       "4  Love coming here. Yes the place always needs t...  ACFtxLv8pGrrxMm6EgjreA   \n",
       "\n",
       "   stars        date  useful  cool  \n",
       "0      5  2016-05-28       0     0  \n",
       "1      5  2016-05-28       0     0  \n",
       "2      5  2016-05-28       0     0  \n",
       "3      5  2016-05-28       0     0  \n",
       "4      4  2016-05-28       0     0  "
      ]
     },
     "execution_count": 29,
     "metadata": {},
     "output_type": "execute_result"
    }
   ],
   "source": [
    "reviews.head()"
   ]
  },
  {
   "cell_type": "code",
   "execution_count": 30,
   "metadata": {},
   "outputs": [
    {
     "data": {
      "text/html": [
       "<div>\n",
       "<style scoped>\n",
       "    .dataframe tbody tr th:only-of-type {\n",
       "        vertical-align: middle;\n",
       "    }\n",
       "\n",
       "    .dataframe tbody tr th {\n",
       "        vertical-align: top;\n",
       "    }\n",
       "\n",
       "    .dataframe thead th {\n",
       "        text-align: right;\n",
       "    }\n",
       "</style>\n",
       "<table border=\"1\" class=\"dataframe\">\n",
       "  <thead>\n",
       "    <tr style=\"text-align: right;\">\n",
       "      <th></th>\n",
       "      <th>funny</th>\n",
       "      <th>stars</th>\n",
       "      <th>useful</th>\n",
       "      <th>cool</th>\n",
       "    </tr>\n",
       "  </thead>\n",
       "  <tbody>\n",
       "    <tr>\n",
       "      <th>count</th>\n",
       "      <td>5.261669e+06</td>\n",
       "      <td>5.261669e+06</td>\n",
       "      <td>5.261669e+06</td>\n",
       "      <td>5.261669e+06</td>\n",
       "    </tr>\n",
       "    <tr>\n",
       "      <th>mean</th>\n",
       "      <td>5.091960e-01</td>\n",
       "      <td>3.727740e+00</td>\n",
       "      <td>1.385085e+00</td>\n",
       "      <td>5.860916e-01</td>\n",
       "    </tr>\n",
       "    <tr>\n",
       "      <th>std</th>\n",
       "      <td>2.686168e+00</td>\n",
       "      <td>1.433593e+00</td>\n",
       "      <td>4.528727e+00</td>\n",
       "      <td>2.233706e+00</td>\n",
       "    </tr>\n",
       "    <tr>\n",
       "      <th>min</th>\n",
       "      <td>0.000000e+00</td>\n",
       "      <td>1.000000e+00</td>\n",
       "      <td>-1.000000e+00</td>\n",
       "      <td>-1.000000e+00</td>\n",
       "    </tr>\n",
       "    <tr>\n",
       "      <th>25%</th>\n",
       "      <td>0.000000e+00</td>\n",
       "      <td>3.000000e+00</td>\n",
       "      <td>0.000000e+00</td>\n",
       "      <td>0.000000e+00</td>\n",
       "    </tr>\n",
       "    <tr>\n",
       "      <th>50%</th>\n",
       "      <td>0.000000e+00</td>\n",
       "      <td>4.000000e+00</td>\n",
       "      <td>0.000000e+00</td>\n",
       "      <td>0.000000e+00</td>\n",
       "    </tr>\n",
       "    <tr>\n",
       "      <th>75%</th>\n",
       "      <td>0.000000e+00</td>\n",
       "      <td>5.000000e+00</td>\n",
       "      <td>2.000000e+00</td>\n",
       "      <td>1.000000e+00</td>\n",
       "    </tr>\n",
       "    <tr>\n",
       "      <th>max</th>\n",
       "      <td>1.481000e+03</td>\n",
       "      <td>5.000000e+00</td>\n",
       "      <td>3.364000e+03</td>\n",
       "      <td>1.105000e+03</td>\n",
       "    </tr>\n",
       "  </tbody>\n",
       "</table>\n",
       "</div>"
      ],
      "text/plain": [
       "              funny         stars        useful          cool\n",
       "count  5.261669e+06  5.261669e+06  5.261669e+06  5.261669e+06\n",
       "mean   5.091960e-01  3.727740e+00  1.385085e+00  5.860916e-01\n",
       "std    2.686168e+00  1.433593e+00  4.528727e+00  2.233706e+00\n",
       "min    0.000000e+00  1.000000e+00 -1.000000e+00 -1.000000e+00\n",
       "25%    0.000000e+00  3.000000e+00  0.000000e+00  0.000000e+00\n",
       "50%    0.000000e+00  4.000000e+00  0.000000e+00  0.000000e+00\n",
       "75%    0.000000e+00  5.000000e+00  2.000000e+00  1.000000e+00\n",
       "max    1.481000e+03  5.000000e+00  3.364000e+03  1.105000e+03"
      ]
     },
     "execution_count": 30,
     "metadata": {},
     "output_type": "execute_result"
    }
   ],
   "source": [
    "reviews.describe()"
   ]
  },
  {
   "cell_type": "code",
   "execution_count": 31,
   "metadata": {},
   "outputs": [
    {
     "data": {
      "text/html": [
       "<div>\n",
       "<style scoped>\n",
       "    .dataframe tbody tr th:only-of-type {\n",
       "        vertical-align: middle;\n",
       "    }\n",
       "\n",
       "    .dataframe tbody tr th {\n",
       "        vertical-align: top;\n",
       "    }\n",
       "\n",
       "    .dataframe thead th {\n",
       "        text-align: right;\n",
       "    }\n",
       "</style>\n",
       "<table border=\"1\" class=\"dataframe\">\n",
       "  <thead>\n",
       "    <tr style=\"text-align: right;\">\n",
       "      <th></th>\n",
       "      <th>funny</th>\n",
       "      <th>stars</th>\n",
       "      <th>useful</th>\n",
       "      <th>cool</th>\n",
       "    </tr>\n",
       "  </thead>\n",
       "  <tbody>\n",
       "    <tr>\n",
       "      <th>funny</th>\n",
       "      <td>1.000000</td>\n",
       "      <td>-0.048866</td>\n",
       "      <td>0.621663</td>\n",
       "      <td>0.661669</td>\n",
       "    </tr>\n",
       "    <tr>\n",
       "      <th>stars</th>\n",
       "      <td>-0.048866</td>\n",
       "      <td>1.000000</td>\n",
       "      <td>-0.077122</td>\n",
       "      <td>0.044828</td>\n",
       "    </tr>\n",
       "    <tr>\n",
       "      <th>useful</th>\n",
       "      <td>0.621663</td>\n",
       "      <td>-0.077122</td>\n",
       "      <td>1.000000</td>\n",
       "      <td>0.677069</td>\n",
       "    </tr>\n",
       "    <tr>\n",
       "      <th>cool</th>\n",
       "      <td>0.661669</td>\n",
       "      <td>0.044828</td>\n",
       "      <td>0.677069</td>\n",
       "      <td>1.000000</td>\n",
       "    </tr>\n",
       "  </tbody>\n",
       "</table>\n",
       "</div>"
      ],
      "text/plain": [
       "           funny     stars    useful      cool\n",
       "funny   1.000000 -0.048866  0.621663  0.661669\n",
       "stars  -0.048866  1.000000 -0.077122  0.044828\n",
       "useful  0.621663 -0.077122  1.000000  0.677069\n",
       "cool    0.661669  0.044828  0.677069  1.000000"
      ]
     },
     "execution_count": 31,
     "metadata": {},
     "output_type": "execute_result"
    }
   ],
   "source": [
    "# correlations\n",
    "reviews.corr()"
   ]
  },
  {
   "cell_type": "markdown",
   "metadata": {},
   "source": [
    "We note that there is a negative correlation between `stars` and `useful` which means that is a review has a higher `stars` then it received a *lower* `useful` vote. This shows that there is a rational descrepancy in the data. We can further validate this observation by creating a pivot table of `useful` vs. `stars`."
   ]
  },
  {
   "cell_type": "code",
   "execution_count": 25,
   "metadata": {},
   "outputs": [
    {
     "data": {
      "text/html": [
       "<div>\n",
       "<style scoped>\n",
       "    .dataframe tbody tr th:only-of-type {\n",
       "        vertical-align: middle;\n",
       "    }\n",
       "\n",
       "    .dataframe tbody tr th {\n",
       "        vertical-align: top;\n",
       "    }\n",
       "\n",
       "    .dataframe thead th {\n",
       "        text-align: right;\n",
       "    }\n",
       "</style>\n",
       "<table border=\"1\" class=\"dataframe\">\n",
       "  <thead>\n",
       "    <tr style=\"text-align: right;\">\n",
       "      <th></th>\n",
       "      <th>useful</th>\n",
       "    </tr>\n",
       "    <tr>\n",
       "      <th>stars</th>\n",
       "      <th></th>\n",
       "    </tr>\n",
       "  </thead>\n",
       "  <tbody>\n",
       "    <tr>\n",
       "      <th>1</th>\n",
       "      <td>3.202899</td>\n",
       "    </tr>\n",
       "    <tr>\n",
       "      <th>2</th>\n",
       "      <td>2.900901</td>\n",
       "    </tr>\n",
       "    <tr>\n",
       "      <th>3</th>\n",
       "      <td>1.969112</td>\n",
       "    </tr>\n",
       "    <tr>\n",
       "      <th>4</th>\n",
       "      <td>1.734139</td>\n",
       "    </tr>\n",
       "    <tr>\n",
       "      <th>5</th>\n",
       "      <td>2.047826</td>\n",
       "    </tr>\n",
       "  </tbody>\n",
       "</table>\n",
       "</div>"
      ],
      "text/plain": [
       "         useful\n",
       "stars          \n",
       "1      3.202899\n",
       "2      2.900901\n",
       "3      1.969112\n",
       "4      1.734139\n",
       "5      2.047826"
      ]
     },
     "execution_count": 25,
     "metadata": {},
     "output_type": "execute_result"
    }
   ],
   "source": [
    "pd.pivot_table(reviews,values='useful', index='stars' )"
   ]
  },
  {
   "cell_type": "markdown",
   "metadata": {},
   "source": [
    "From the above pivot table we obtain an inconclusive result, further analysis is required. Next, let's obtain a count of users in the `reviews` df. We can do this using the `user_id` column. Note that `user_counts` obtained below is sorted in descending order. We then take the top 25% of users who have posted a a lot of reviews, similarly we also take the bottom 25% users with the least number of reviews."
   ]
  },
  {
   "cell_type": "code",
   "execution_count": 42,
   "metadata": {},
   "outputs": [],
   "source": [
    "# count of users (sorted highest to lowest)\n",
    "user_counts = reviews['user_id'].value_counts()"
   ]
  },
  {
   "cell_type": "code",
   "execution_count": 60,
   "metadata": {},
   "outputs": [],
   "source": [
    "import math\n",
    "\n",
    "REVIEWS_LEN = reviews.shape[0]\n",
    "TOP_25 = math.floor(REVIEWS_LEN*0.25)\n",
    "BOT_25 = -TOP_25\n",
    "\n",
    "most_frequent_users = user_counts[:TOP_25] # first 25%\n",
    "least_frequent_users = user_counts[BOT_25:] # last 25%"
   ]
  },
  {
   "cell_type": "markdown",
   "metadata": {},
   "source": [
    "Next, we obtain a df containing the reviews from the top 25% and bottom 25% users."
   ]
  },
  {
   "cell_type": "code",
   "execution_count": 68,
   "metadata": {},
   "outputs": [],
   "source": [
    "most_frequent_user_reviews = reviews.filter(items=most_frequent_users, axis=0)\n",
    "least_frequent_user_reviews = reviews.filter(items=least_frequent_users, axis=0)"
   ]
  },
  {
   "cell_type": "code",
   "execution_count": 69,
   "metadata": {},
   "outputs": [
    {
     "data": {
      "text/html": [
       "<div>\n",
       "<style scoped>\n",
       "    .dataframe tbody tr th:only-of-type {\n",
       "        vertical-align: middle;\n",
       "    }\n",
       "\n",
       "    .dataframe tbody tr th {\n",
       "        vertical-align: top;\n",
       "    }\n",
       "\n",
       "    .dataframe thead th {\n",
       "        text-align: right;\n",
       "    }\n",
       "</style>\n",
       "<table border=\"1\" class=\"dataframe\">\n",
       "  <thead>\n",
       "    <tr style=\"text-align: right;\">\n",
       "      <th></th>\n",
       "      <th>funny</th>\n",
       "      <th>stars</th>\n",
       "      <th>useful</th>\n",
       "      <th>cool</th>\n",
       "    </tr>\n",
       "  </thead>\n",
       "  <tbody>\n",
       "    <tr>\n",
       "      <th>funny</th>\n",
       "      <td>1.000000</td>\n",
       "      <td>-0.341695</td>\n",
       "      <td>0.400509</td>\n",
       "      <td>0.318680</td>\n",
       "    </tr>\n",
       "    <tr>\n",
       "      <th>stars</th>\n",
       "      <td>-0.341695</td>\n",
       "      <td>1.000000</td>\n",
       "      <td>-0.623933</td>\n",
       "      <td>-0.388930</td>\n",
       "    </tr>\n",
       "    <tr>\n",
       "      <th>useful</th>\n",
       "      <td>0.400509</td>\n",
       "      <td>-0.623933</td>\n",
       "      <td>1.000000</td>\n",
       "      <td>0.368146</td>\n",
       "    </tr>\n",
       "    <tr>\n",
       "      <th>cool</th>\n",
       "      <td>0.318680</td>\n",
       "      <td>-0.388930</td>\n",
       "      <td>0.368146</td>\n",
       "      <td>1.000000</td>\n",
       "    </tr>\n",
       "  </tbody>\n",
       "</table>\n",
       "</div>"
      ],
      "text/plain": [
       "           funny     stars    useful      cool\n",
       "funny   1.000000 -0.341695  0.400509  0.318680\n",
       "stars  -0.341695  1.000000 -0.623933 -0.388930\n",
       "useful  0.400509 -0.623933  1.000000  0.368146\n",
       "cool    0.318680 -0.388930  0.368146  1.000000"
      ]
     },
     "execution_count": 69,
     "metadata": {},
     "output_type": "execute_result"
    }
   ],
   "source": [
    "most_frequent_user_reviews.corr()"
   ]
  },
  {
   "cell_type": "code",
   "execution_count": 70,
   "metadata": {},
   "outputs": [
    {
     "data": {
      "text/html": [
       "<div>\n",
       "<style scoped>\n",
       "    .dataframe tbody tr th:only-of-type {\n",
       "        vertical-align: middle;\n",
       "    }\n",
       "\n",
       "    .dataframe tbody tr th {\n",
       "        vertical-align: top;\n",
       "    }\n",
       "\n",
       "    .dataframe thead th {\n",
       "        text-align: right;\n",
       "    }\n",
       "</style>\n",
       "<table border=\"1\" class=\"dataframe\">\n",
       "  <thead>\n",
       "    <tr style=\"text-align: right;\">\n",
       "      <th></th>\n",
       "      <th>useful</th>\n",
       "    </tr>\n",
       "    <tr>\n",
       "      <th>stars</th>\n",
       "      <th></th>\n",
       "    </tr>\n",
       "  </thead>\n",
       "  <tbody>\n",
       "    <tr>\n",
       "      <th>1</th>\n",
       "      <td>5.704199</td>\n",
       "    </tr>\n",
       "    <tr>\n",
       "      <th>2</th>\n",
       "      <td>1.971070</td>\n",
       "    </tr>\n",
       "    <tr>\n",
       "      <th>3</th>\n",
       "      <td>1.988311</td>\n",
       "    </tr>\n",
       "    <tr>\n",
       "      <th>4</th>\n",
       "      <td>0.198111</td>\n",
       "    </tr>\n",
       "    <tr>\n",
       "      <th>5</th>\n",
       "      <td>0.072265</td>\n",
       "    </tr>\n",
       "  </tbody>\n",
       "</table>\n",
       "</div>"
      ],
      "text/plain": [
       "         useful\n",
       "stars          \n",
       "1      5.704199\n",
       "2      1.971070\n",
       "3      1.988311\n",
       "4      0.198111\n",
       "5      0.072265"
      ]
     },
     "execution_count": 70,
     "metadata": {},
     "output_type": "execute_result"
    }
   ],
   "source": [
    "pd.pivot_table(most_frequent_user_reviews, values='useful', index='stars')"
   ]
  },
  {
   "cell_type": "code",
   "execution_count": 71,
   "metadata": {},
   "outputs": [
    {
     "data": {
      "text/html": [
       "<div>\n",
       "<style scoped>\n",
       "    .dataframe tbody tr th:only-of-type {\n",
       "        vertical-align: middle;\n",
       "    }\n",
       "\n",
       "    .dataframe tbody tr th {\n",
       "        vertical-align: top;\n",
       "    }\n",
       "\n",
       "    .dataframe thead th {\n",
       "        text-align: right;\n",
       "    }\n",
       "</style>\n",
       "<table border=\"1\" class=\"dataframe\">\n",
       "  <thead>\n",
       "    <tr style=\"text-align: right;\">\n",
       "      <th></th>\n",
       "      <th>funny</th>\n",
       "      <th>stars</th>\n",
       "      <th>useful</th>\n",
       "      <th>cool</th>\n",
       "    </tr>\n",
       "  </thead>\n",
       "  <tbody>\n",
       "    <tr>\n",
       "      <th>funny</th>\n",
       "      <td>1.000000</td>\n",
       "      <td>-0.371052</td>\n",
       "      <td>0.423652</td>\n",
       "      <td>0.314621</td>\n",
       "    </tr>\n",
       "    <tr>\n",
       "      <th>stars</th>\n",
       "      <td>-0.371052</td>\n",
       "      <td>1.000000</td>\n",
       "      <td>-0.632290</td>\n",
       "      <td>-0.396800</td>\n",
       "    </tr>\n",
       "    <tr>\n",
       "      <th>useful</th>\n",
       "      <td>0.423652</td>\n",
       "      <td>-0.632290</td>\n",
       "      <td>1.000000</td>\n",
       "      <td>0.357234</td>\n",
       "    </tr>\n",
       "    <tr>\n",
       "      <th>cool</th>\n",
       "      <td>0.314621</td>\n",
       "      <td>-0.396800</td>\n",
       "      <td>0.357234</td>\n",
       "      <td>1.000000</td>\n",
       "    </tr>\n",
       "  </tbody>\n",
       "</table>\n",
       "</div>"
      ],
      "text/plain": [
       "           funny     stars    useful      cool\n",
       "funny   1.000000 -0.371052  0.423652  0.314621\n",
       "stars  -0.371052  1.000000 -0.632290 -0.396800\n",
       "useful  0.423652 -0.632290  1.000000  0.357234\n",
       "cool    0.314621 -0.396800  0.357234  1.000000"
      ]
     },
     "execution_count": 71,
     "metadata": {},
     "output_type": "execute_result"
    }
   ],
   "source": [
    "least_frequent_user_reviews.corr()"
   ]
  },
  {
   "cell_type": "code",
   "execution_count": 72,
   "metadata": {},
   "outputs": [
    {
     "data": {
      "text/html": [
       "<div>\n",
       "<style scoped>\n",
       "    .dataframe tbody tr th:only-of-type {\n",
       "        vertical-align: middle;\n",
       "    }\n",
       "\n",
       "    .dataframe tbody tr th {\n",
       "        vertical-align: top;\n",
       "    }\n",
       "\n",
       "    .dataframe thead th {\n",
       "        text-align: right;\n",
       "    }\n",
       "</style>\n",
       "<table border=\"1\" class=\"dataframe\">\n",
       "  <thead>\n",
       "    <tr style=\"text-align: right;\">\n",
       "      <th></th>\n",
       "      <th>useful</th>\n",
       "    </tr>\n",
       "    <tr>\n",
       "      <th>stars</th>\n",
       "      <th></th>\n",
       "    </tr>\n",
       "  </thead>\n",
       "  <tbody>\n",
       "    <tr>\n",
       "      <th>1</th>\n",
       "      <td>5.902944</td>\n",
       "    </tr>\n",
       "    <tr>\n",
       "      <th>2</th>\n",
       "      <td>2.154024</td>\n",
       "    </tr>\n",
       "    <tr>\n",
       "      <th>3</th>\n",
       "      <td>2.060877</td>\n",
       "    </tr>\n",
       "    <tr>\n",
       "      <th>4</th>\n",
       "      <td>0.180985</td>\n",
       "    </tr>\n",
       "    <tr>\n",
       "      <th>5</th>\n",
       "      <td>0.070508</td>\n",
       "    </tr>\n",
       "  </tbody>\n",
       "</table>\n",
       "</div>"
      ],
      "text/plain": [
       "         useful\n",
       "stars          \n",
       "1      5.902944\n",
       "2      2.154024\n",
       "3      2.060877\n",
       "4      0.180985\n",
       "5      0.070508"
      ]
     },
     "execution_count": 72,
     "metadata": {},
     "output_type": "execute_result"
    }
   ],
   "source": [
    "least_frequent_usefulness = pd.pivot_table(least_frequent_user_reviews, values='useful', index='stars')\n",
    "least_frequent_usefulness"
   ]
  },
  {
   "cell_type": "markdown",
   "metadata": {},
   "source": [
    "Not constructing pivot tables using the reviews top 25% and bottom 25% users, we can clearly see that reviews with lower `stars` receive lower `useful` votes! This proves that H_a_ is true."
   ]
  },
  {
   "cell_type": "markdown",
   "metadata": {},
   "source": [
    "## Alternative Hypothesis\n",
    "\n",
    "H_o_: `useful` is a better attribute for predicting whether a  review is fake or not.\n",
    "H_a_: `stars` is a better attribute for predicting whether a review is fake or not."
   ]
  },
  {
   "cell_type": "code",
   "execution_count": null,
   "metadata": {},
   "outputs": [],
   "source": []
  }
 ],
 "metadata": {
  "kernelspec": {
   "display_name": "Python 3",
   "language": "python",
   "name": "python3"
  },
  "language_info": {
   "codemirror_mode": {
    "name": "ipython",
    "version": 3
   },
   "file_extension": ".py",
   "mimetype": "text/x-python",
   "name": "python",
   "nbconvert_exporter": "python",
   "pygments_lexer": "ipython3",
   "version": "3.6.5"
  },
  "nteract": {
   "version": "0.7.1"
  }
 },
 "nbformat": 4,
 "nbformat_minor": 2
}
